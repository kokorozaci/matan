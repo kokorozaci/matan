{
 "cells": [
  {
   "cell_type": "markdown",
   "metadata": {},
   "source": [
    "**Тема “Предел функции”**"
   ]
  },
  {
   "cell_type": "markdown",
   "metadata": {},
   "source": [
    "Предложить пример функции, не имеющей предела в нуле и в бесконечностях."
   ]
  },
  {
   "cell_type": "markdown",
   "metadata": {},
   "source": [
    "$$f(x) = sin(\\frac{1}{x})$$"
   ]
  },
  {
   "cell_type": "markdown",
   "metadata": {},
   "source": [
    "Привести пример функции, не имеющей предела в точке, но определенной в ней."
   ]
  },
  {
   "cell_type": "markdown",
   "metadata": {},
   "source": [
    "$$f(x)=\\begin{cases}\n",
    "   x-1, \\: x<2\\\\\n",
    "   2-x, \\: x\\geq 2\n",
    " \\end{cases}$$"
   ]
  },
  {
   "cell_type": "markdown",
   "metadata": {},
   "source": [
    "Исследовать функцию $$f(x) = x^3 - x^2$$ по плану"
   ]
  },
  {
   "cell_type": "markdown",
   "metadata": {},
   "source": [
    "- Область задания и область значений.\n",
    "$$ x \\in (-\\infty; +\\infty), y \\in (-\\infty; +\\infty)$$"
   ]
  },
  {
   "cell_type": "markdown",
   "metadata": {},
   "source": [
    "- Нули функции и их кратность.\n",
    "$$x^3-x^2=0 \\\\\n",
    "x^2\\cdot(x-1)=0 \\\\\n",
    "x=0 \\:(кратность \\: 2) \\\\\n",
    "x=1 \\:(кратность \\: 1)$$"
   ]
  },
  {
   "cell_type": "markdown",
   "metadata": {},
   "source": [
    "- Отрезки знакопостоянства.\n",
    "$$f(x) < 0 \\:при\\:(-\\infty;0)\\cup(0;1)\\\\\n",
    "f(x) > 0 \\:при\\:(1;+\\infty)$$"
   ]
  },
  {
   "cell_type": "markdown",
   "metadata": {},
   "source": [
    "- Интервалы монотонности.\n",
    "$$f^\\prime(x) = 3x^2 - 2x = x(3x-2)\\\\\n",
    "x(3x-2)=0\\\\\n",
    "x = 0\\\\\n",
    "x = 2/3$$\n",
    "f(x) монотонно возрастает при:\n",
    "$$x \\in (-\\infty;0) \\cup (2/3;+\\infty$$\n",
    "f(x) монотонно убывает при:\n",
    "$$x \\in (0;2/3)$$"
   ]
  },
  {
   "cell_type": "markdown",
   "metadata": {},
   "source": [
    "- Четность функции.\n",
    "\n",
    "нечётная\n",
    "- Ограниченность.\n",
    "\n",
    "неограниченная\n",
    "- Периодичность.\n",
    "\n",
    "не периодичная\n",
    "\n"
   ]
  },
  {
   "cell_type": "markdown",
   "metadata": {},
   "source": [
    "**Найти предел:**"
   ]
  },
  {
   "cell_type": "markdown",
   "metadata": {},
   "source": [
    "$$\\lim_{x\\to0} \\frac{3x^3-2x^2}{4x^2} = (\\frac{0}{0})=\\lim_{x\\to0} \\frac{3x-2}{4} = -\\frac{1}{2}$$"
   ]
  },
  {
   "cell_type": "markdown",
   "metadata": {},
   "source": [
    "$$\\lim_{x\\to0} \\frac{\\sqrt{1+x}-1}{\\sqrt[3]{1+x}-1} =(\\frac{0}{0})= \\lim_{x\\to0} \\frac{(\\sqrt{1+x}-1)(\\sqrt{1+x}+1)(\\sqrt[3]{(1+x)^2}+\\sqrt[3]{1+x}+1)}{(\\sqrt[3]{1+x}-1)(\\sqrt{1+x}+1)(\\sqrt[3]{(1+x)^2}+\\sqrt[3]{1+x}+1)}= \\lim_{x\\to0} \\frac{(1+x-1)(\\sqrt[3]{(1+x)^2}+\\sqrt[3]{1+x}+1)}{(1+x-1)(\\sqrt{1+x}+1)}= \\lim_{x\\to0} \\frac{\\sqrt[3]{(1+x)^2}+\\sqrt[3]{1+x}+1}{\\sqrt{1+x}+1}=1,5$$"
   ]
  },
  {
   "cell_type": "markdown",
   "metadata": {},
   "source": [
    "$$\\lim_{x\\to\\infty} (\\frac{x+3}{x})^{4x+1} = (1)^\\infty=\\lim_{x\\to\\infty} (1+\\frac{3}{x})^{4x+1}=e^{\\lim_{x\\to\\infty} (1+\\frac{3}{x}-1)(4x+1)}=e^{12}$$"
   ]
  },
  {
   "cell_type": "markdown",
   "metadata": {},
   "source": [
    "**Тема “Теоремы о пределах”**"
   ]
  },
  {
   "cell_type": "markdown",
   "metadata": {},
   "source": [
    "**Найти предел:**"
   ]
  },
  {
   "cell_type": "markdown",
   "metadata": {},
   "source": [
    "$$\\lim_{x\\to0} \\frac{sin(2x)}{4x} = \\lim_{x\\to0} \\frac{sin(2x)}{2*2x}=\\frac{1}{2}$$"
   ]
  },
  {
   "cell_type": "markdown",
   "metadata": {},
   "source": [
    "$$\\lim_{x\\to0} \\frac{x}{sin(x)} = 0$$"
   ]
  },
  {
   "cell_type": "markdown",
   "metadata": {},
   "source": [
    "$$\\lim_{x\\to0} \\frac{x}{arcsin(x)} = \\lim_{x\\to0} \\frac{sin(arcsin(x))}{arcsin(x)} = 1$$"
   ]
  },
  {
   "cell_type": "markdown",
   "metadata": {},
   "source": [
    "$$\\lim_{x\\to\\infty} (\\frac{4x+3}{4x-3})^{6x} = \\lim_{x\\to\\infty} (\\frac{4x-3+3+3}{4x-3})^{6x} = \\lim_{x\\to\\infty} (1+\\frac{6}{4x-3})^{6x} = \\lim_{x\\to\\infty} (1+\\frac{6}{4x-3})^{\\frac{(4x-3)6*6x}{6(4x-3)}}= e^{\\lim_{x\\to\\infty} (\\frac{36x}{4x-3})}=e^9$$"
   ]
  }
 ],
 "metadata": {
  "kernelspec": {
   "display_name": "Python 3",
   "language": "python",
   "name": "python3"
  },
  "language_info": {
   "codemirror_mode": {
    "name": "ipython",
    "version": 3
   },
   "file_extension": ".py",
   "mimetype": "text/x-python",
   "name": "python",
   "nbconvert_exporter": "python",
   "pygments_lexer": "ipython3",
   "version": "3.7.6"
  }
 },
 "nbformat": 4,
 "nbformat_minor": 4
}
