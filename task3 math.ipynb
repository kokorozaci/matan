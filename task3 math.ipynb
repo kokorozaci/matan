{
  "nbformat": 4,
  "nbformat_minor": 0,
  "metadata": {
    "colab": {
      "name": "Untitled12.ipynb",
      "provenance": [],
      "collapsed_sections": []
    },
    "kernelspec": {
      "name": "python3",
      "display_name": "Python 3"
    }
  },
  "cells": [
    {
      "cell_type": "markdown",
      "metadata": {
        "id": "mjPTK4ntLJtA",
        "colab_type": "text"
      },
      "source": [
        "**Найти производную выражения:**\n",
        "$$(\\sin x \\cdot \\cos x)^\\prime = (\\cos x)^2 - (\\sin x)^2$$\n",
        "\n",
        "$$(\\ln (2x+1)^3)^\\prime = \\frac {6}{2x+1}$$\n",
        "\n",
        "$$(\\sqrt{\\sin^2(\\ln(x^3))})^\\prime = |\\sin(3\\ln x)| =\\frac{\\sin(\\ln(x^3))}{|\\sin(\\ln(x^3))|}\\cdot \\cos (3\\ln x) \\cdot \\frac {3}{x}$$\n",
        "\n",
        "$$(\\frac {x^4}{\\ln(x)})^\\prime = \\frac {4x^3 \\cdot \\ln x - x^4 \\cdot \\frac {1}{x} }{(\\ln x)^2} = \\frac {x^3}{\\ln x} (4 - \\frac {1} {\\ln x})$$\n"
      ]
    },
    {
      "cell_type": "markdown",
      "metadata": {
        "id": "BgkmrgDsTpmM",
        "colab_type": "text"
      },
      "source": [
        "**Найти выражение производной функции и ее значение в точке:**\n",
        "$$f(x) = \\cos (x^2 + 3x), x_0 = \\sqrt \\pi$$\n",
        "\n",
        "$$f(x)^\\prime = - \\sin (x^2 + 3x) \\cdot (2x + 3)$$\n",
        "\n",
        "$$f(x_0) = - \\sin (\\pi + 3\\sqrt \\pi) \\cdot (2\\sqrt \\pi + 3) \\simeq -0.962$$"
      ]
    },
    {
      "cell_type": "markdown",
      "metadata": {
        "id": "NZEmqomYcne4",
        "colab_type": "text"
      },
      "source": [
        "**Найти значение производной функции в точке:**\n",
        "$$f(x) = \\frac {x^3-x^2-x-1}{1+2x+3x^2-4x^3}, x_0 = 0$$\n",
        "\n",
        "$$f(x)^\\prime = \\frac {(3x^2-2x-1)\\cdot (1+2x+3x^2-4x^3) - (x^3-x^2-x-1)\\cdot(2+6x - 12x^2)}{(1+2x+3x^2-4x^3)^2}$$\n",
        "\n",
        "$$f(x_0) = 1$$\n"
      ]
    },
    {
      "cell_type": "markdown",
      "metadata": {
        "id": "Es5X6730e1OX",
        "colab_type": "text"
      },
      "source": [
        "**Найти угол наклона касательной к графику функции в точке:**\n",
        "$$f(x) = \\sqrt {3x} \\cdot \\ln x, x_0 = 1$$\n",
        "$$f(x)^\\prime = \\sqrt {3x}^\\prime \\cdot \\ln x + \\sqrt {3x} \\cdot \\ln x ^\\prime = \\frac {3\\ln x}{2x} + \\frac {\\sqrt {3x}}{x}$$\n",
        "$$f(x_0) = \\sqrt 3 = \\tan\\alpha \\\\\n",
        "\\alpha = 60^\\circ$$"
      ]
    }
  ]
}