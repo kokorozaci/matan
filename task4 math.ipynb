{
  "nbformat": 4,
  "nbformat_minor": 0,
  "metadata": {
    "colab": {
      "name": "Untitled13.ipynb",
      "provenance": []
    },
    "kernelspec": {
      "name": "python3",
      "display_name": "Python 3"
    }
  },
  "cells": [
    {
      "cell_type": "markdown",
      "metadata": {
        "id": "fb3trOWbs6qc",
        "colab_type": "text"
      },
      "source": [
        "  Найти область определения функции.\n",
        "$$z = \\sqrt{1-x^3}+\\ln(y^2-1)$$\n",
        "$$\n",
        "1-x^3 \\geq 0 \\\\\n",
        "1 \\geq x^3 \\\\\n",
        "x \\leq 1;\\\\\n",
        "y^2-1 > 0 \\\\\n",
        "y^2 > 1 \\\\\n",
        "y_1 > 1, y_2 < -1$$ \n"
      ]
    },
    {
      "cell_type": "markdown",
      "metadata": {
        "id": "SeY_jMMGwNUl",
        "colab_type": "text"
      },
      "source": [
        "Найти производные 1-го порядка функции.\n",
        "$$z = (1+ \\frac {\\ln x}{\\ln y})^3$$\n",
        "$$z_x^\\prime = \\frac {3(1+\\frac{\\ln (x)}{\\ln (y)})^2}{x\\ln (y)}$$\n",
        "$$z_y^\\prime = -\\frac {3\\ln(x)(1+\\frac{\\ln (x)}{\\ln (y)})^2}{y\\ln^2 (y)}$$"
      ]
    },
    {
      "cell_type": "markdown",
      "metadata": {
        "id": "LS98ddLdz-ED",
        "colab_type": "text"
      },
      "source": [
        "Найти полный дифференциал функции в точке (1;1).\n",
        "$$\n",
        "z = \\sqrt{2xy+\\cos{\\frac {x}{y}}}\\\\\n",
        "dz = \\frac{\\partial z}{\\partial x} dx + \\frac{\\partial z}{\\partial y} dy \\\\\n",
        "\\frac{\\partial z}{\\partial x} dx = \\frac {1}{2} \\frac {(2y-sin(\\frac {x}{y}))}{\\sqrt {2xy+\\cos{\\frac {x}{y}}}}\\frac {1}{y} = \\frac {y-\\frac{sin\\frac{x}{y}}{2y}}{\\sqrt {2xy+\\cos{\\frac {x}{y}}}} \\\\\n",
        "\\frac{\\partial z}{\\partial y} dy = \\frac {1}{2} \\frac {(2x-sin(\\frac {x}{y}))}{\\sqrt {2xy+\\cos{\\frac {x}{y}}}}\\frac {-x}{y^2} = \\frac {x+\\frac{xsin\\frac{x}{y}}{2y^2}}{\\sqrt {2xy+\\cos{\\frac {x}{y}}}} \\\\\n",
        "dz (1;1) = \\frac {1-\\frac{sin 1}{2}}{\\sqrt {2+\\cos 1}} dx + \\frac {1+\\frac{sin 1}{2}}{\\sqrt {2+\\cos1}}  dy $$"
      ]
    },
    {
      "cell_type": "markdown",
      "metadata": {
        "id": "6kYdweEL-j82",
        "colab_type": "text"
      },
      "source": [
        " Исследовать на экстремум функцию\n",
        "$$z = x^2 +xy + y^2 - 6x -9y \\\\\n",
        "z_x^\\prime = 2x+y-6\\\\\n",
        "z_y^\\prime = x+2y-9 \\\\\n",
        "\\begin{equation*}\n",
        " \\begin{cases}\n",
        "   2x+y-6 = 0 \n",
        "   \\\\\n",
        "   x+2y-9 = 0\n",
        " \\end{cases}\n",
        "\\end{equation*}\n",
        "\\\\\n",
        "x = -2y+9 \\\\\n",
        "2(-2y+9)-6+y = 0 \\\\\n",
        "y = 4 \\\\\n",
        "x = 1 \\\\\n",
        "z = -21 \\\\\n",
        "\\Delta \\begin{bmatrix}\n",
        "z_{xx}^{\\prime\\prime} & z_{xy}^{\\prime\\prime}\\\\\n",
        "z_{yx}^{\\prime\\prime} & z_{yy}^{\\prime\\prime}\n",
        "\\end{bmatrix} = \\Delta \\begin{bmatrix}\n",
        "2 & 1\\\\\n",
        "1 & 2\n",
        "\\end{bmatrix} = 3 > 0\n",
        "$$\n",
        "Экстремумы есть \n",
        "\n",
        "Максимум в точке (1; 4; -21)"
      ]
    }
  ]
}