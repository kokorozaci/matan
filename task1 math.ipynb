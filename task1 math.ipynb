{
 "cells": [
  {
   "cell_type": "markdown",
   "metadata": {},
   "source": [
    "1. Как относятся друг к другу множество и последовательность? (в ответе использовать слова\n",
    "типа: часть, целое, общее, частное, родитель, дочерний субъект и т.д.)\n"
   ]
  },
  {
   "cell_type": "markdown",
   "metadata": {},
   "source": [
    "Последовательность дочерний субъект множества."
   ]
  },
  {
   "cell_type": "markdown",
   "metadata": {},
   "source": [
    "2. Прочитать высказывания математической логики, построить их отрицания и установить\n",
    "истинность.\n"
   ]
  },
  {
   "cell_type": "markdown",
   "metadata": {},
   "source": [
    "$$\\forall y \\in [0;1] : sgn(y) = 1 - False$$\n",
    "$$\\exists y \\in [0;1] : sgn(y) \\ne 1 - True$$\n",
    "\n",
    "$$\\forall n \\in \\mathbb{N} > 2 : \\exists x,y,z \\in \\mathbb{N} : x^n = y^n + z^n - False$$\n",
    "$$\\exists n \\in \\mathbb{N} > 2 : \\forall x,y,z \\in \\mathbb{N} : x^n \\ne y^n + z^n - True$$\n",
    "\n",
    "$$\\forall x \\in \\mathbb{R} \\exists X \\in \\mathbb{R} : X > x - True$$\n",
    "$$\\exists x \\in \\mathbb{R} \\forall X \\in \\mathbb{R} : X \\leq x - False$$\n",
    "\n",
    "$$\\forall x \\in \\mathbb{C} \\nexists y \\in \\mathbb{C} : x > y \\| x<y - False$$\n",
    "$$\\exists x \\in \\mathbb{C} \\exists y \\in \\mathbb{C} : x \\leq y , x\\geq y  - True$$\n",
    "\n",
    "$$\\forall y \\in [0;\\frac{\\pi}{2}]\\exists \\epsilon >0 : sin(y)< sin(y+\\epsilon) - False$$ \n",
    "$$\\exists y \\in [0;\\frac{\\pi}{2}]\\forall \\epsilon \\leq0 : sin(y)\\geq sin(y+\\epsilon)  - True$$\n",
    "\n",
    "$$\\forall y \\in [0;\\pi) \\exists \\epsilon > 0 : cos(y) > cos(y + \\epsilon) - False$$\n",
    "$$\\exists y \\in [0;\\pi) \\forall \\epsilon \\leq 0 : cos(y) \\leq cos(y + \\epsilon) - True$$\n",
    "\n",
    "$$\\exists x : x \\notin \\{\\mathbb{N,Z,Q,E,C}\\} - False$$\n",
    "$$\\forall x : x \\in \\{\\mathbb{N,Z,Q,E,C}\\} - True$$"
   ]
  },
  {
   "cell_type": "markdown",
   "metadata": {},
   "source": [
    "***Тема \"Множество\"***"
   ]
  },
  {
   "cell_type": "markdown",
   "metadata": {},
   "source": [
    "1. Даны три множества a,b и с. Необходимо выполнить все изученные виды бинарных операций\n",
    "над всеми комбинациями множеств.\n"
   ]
  },
  {
   "cell_type": "markdown",
   "metadata": {},
   "source": [
    "$$a = \\{2, 8, 12\\} \\\\\n",
    "b = \\{8, 9, 10, 11\\} \\\\\n",
    "c = \\{1, 10, 11\\} \\\\\n",
    "u = \\{x | x \\in \\mathbb{N}, x > 13 \\}$$\n",
    "\n",
    "$$ a \\cup b = \\{2,8,9,10,11,12\\}$$\n",
    "$$ a \\cup b \\cup c = \\{1,2,8,9,10,11,12\\}$$\n",
    "$$ a \\cup c = \\{1,2,8,10,11,12\\}$$\n",
    "$$ b \\cup c = \\{1,8,9,10,11\\}$$\n",
    "\n",
    "$$ a \\cap b = \\{8\\}$$\n",
    "$$ a \\cap c = \\{\\}$$\n",
    "$$ b \\cap c = \\{10, 11\\}$$\n",
    "$$ a \\cup b \\cap c = \\{2,8,10,11,12\\}$$\n",
    "$$ a \\cap b \\cup c = \\{1,8,10,11\\}$$\n",
    "$$ a \\cap c \\cup b = \\{8, 9, 10,11\\}$$\n",
    "\n",
    "$$ a \\setminus b = \\{2,12\\}$$\n",
    "$$ b \\setminus a = \\{9,10,11\\}$$\n",
    "$$ b \\setminus a \\setminus c = \\{9\\}$$\n",
    "\n",
    "$$ a \\Delta b = \\{2,9,10,11,12\\}$$\n",
    "$$ a \\Delta b \\Delta c = \\{1,2,9,12\\}$$\n",
    "\n",
    "$$ a \\times b = \\{(2;8), (2;9), (2;10), (2;11), (8;8), (8;9), (8;10), (8;11), (12;8), (12;9), (12;10), (12;11)\\}\\\\\n",
    "\\bar{a} = u \\setminus a = \\{1, 3, 4, 5, 6, 7, 9, 10, 11\\}\\\\\n",
    "P{a} = = \\{ \\{\\}, \\{2\\}, \\{8\\}, \\{12\\}, \\{2, 8\\}, \\{2, 12\\}, \\{8, 12\\}, \\{2, 8, 12\\}\\}$$"
   ]
  },
  {
   "cell_type": "markdown",
   "metadata": {},
   "source": [
    "2. *Выполнить задание 1 на языке Python"
   ]
  },
  {
   "cell_type": "code",
   "execution_count": 24,
   "metadata": {},
   "outputs": [],
   "source": [
    "from itertools import combinations, product\n",
    "\n",
    "𝑎={2,8,12}\n",
    "𝑏={8,9,10,11}\n",
    "𝑐={1,10,11}\n",
    "u = set([x for x in range(1, 13)])\n",
    "\n",
    "def bulean(x):\n",
    "    Pa = []\n",
    "    for i in range(len(x)+1):\n",
    "        Pa.extend([j for j in combinations(x,i)])\n",
    "    return set(Pa)\n",
    "\n",
    "def dec_mul(a, b):\n",
    "    return set(product(a, b))"
   ]
  },
  {
   "cell_type": "code",
   "execution_count": 26,
   "metadata": {},
   "outputs": [
    {
     "name": "stdout",
     "output_type": "stream",
     "text": [
      "{2, 8, 9, 10, 11, 12}\n",
      "{1, 2, 8, 10, 11, 12}\n",
      "{1, 8, 9, 10, 11}\n",
      "{1, 2, 8, 9, 10, 11, 12}\n"
     ]
    }
   ],
   "source": [
    "print(a|b)\n",
    "print(a|c)\n",
    "print(b|c)\n",
    "print(a|b|c)"
   ]
  },
  {
   "cell_type": "code",
   "execution_count": 40,
   "metadata": {},
   "outputs": [
    {
     "name": "stdout",
     "output_type": "stream",
     "text": [
      "{8}\n",
      "set()\n",
      "{10, 11}\n",
      "set()\n"
     ]
    }
   ],
   "source": [
    "print(a&b)\n",
    "print(a&c)\n",
    "print(b&c)\n",
    "print(a&b&c)"
   ]
  },
  {
   "cell_type": "code",
   "execution_count": 43,
   "metadata": {},
   "outputs": [
    {
     "name": "stdout",
     "output_type": "stream",
     "text": [
      "{8, 1, 10, 11}\n",
      "{2, 8, 10, 11, 12}\n",
      "{2, 8, 10, 11, 12}\n",
      "{8, 9, 10, 11}\n"
     ]
    }
   ],
   "source": [
    "print(a&b|c)\n",
    "print(a|b&c)\n",
    "print(a|c&b)\n",
    "print(a&c|b)"
   ]
  },
  {
   "cell_type": "code",
   "execution_count": 31,
   "metadata": {},
   "outputs": [
    {
     "name": "stdout",
     "output_type": "stream",
     "text": [
      "{2, 9, 10, 11, 12}\n",
      "{1, 2, 8, 10, 11, 12}\n",
      "{1, 8, 9}\n",
      "{1, 2, 9, 12}\n"
     ]
    }
   ],
   "source": [
    "print(a^b)\n",
    "print(a^c)\n",
    "print(b^c)\n",
    "print(a^b^c)"
   ]
  },
  {
   "cell_type": "code",
   "execution_count": 39,
   "metadata": {},
   "outputs": [
    {
     "name": "stdout",
     "output_type": "stream",
     "text": [
      "{2, 12}\n",
      "{9, 10, 11}\n",
      "{8, 2, 12}\n",
      "{1, 10, 11}\n",
      "{8, 9}\n",
      "{1}\n",
      "{2, 12}\n",
      "{9}\n",
      "{1}\n"
     ]
    }
   ],
   "source": [
    "print(a-b)\n",
    "print(b-a)\n",
    "print(a-c)\n",
    "print(c-a)\n",
    "print(b-c)\n",
    "print(c-b)\n",
    "print(a-b-c)\n",
    "print(b-c-a)\n",
    "print(c-a-b)"
   ]
  },
  {
   "cell_type": "code",
   "execution_count": 45,
   "metadata": {},
   "outputs": [
    {
     "name": "stdout",
     "output_type": "stream",
     "text": [
      "bulean(a) = {(8, 2), (8, 12), (2,), (8,), (8, 2, 12), (), (2, 12), (12,)}\n",
      "bulean(b) = {(8, 9, 10), (8, 10, 11), (10, 11), (8, 9, 11), (9, 10, 11), (8, 11), (8,), (8, 10), (9,), (8, 9, 10, 11), (8, 9), (10,), (9, 10), (), (11,), (9, 11)}\n",
      "bulean(c) = {(10, 11), (1,), (1, 10, 11), (10,), (), (11,), (1, 10), (1, 11)}\n",
      "aXb = {(2, 9), (2, 8), (8, 11), (2, 11), (8, 10), (2, 10), (8, 9), (8, 8), (12, 11), (12, 10), (12, 9), (12, 8)}\n"
     ]
    }
   ],
   "source": [
    "print(f'bulean(a) = {bulean(a)}')\n",
    "print(f'bulean(b) = {bulean(b)}')\n",
    "print(f'bulean(c) = {bulean(c)}')\n",
    "print(f'aXb = {dec_mul(a, b)}')"
   ]
  },
  {
   "cell_type": "markdown",
   "metadata": {},
   "source": [
    "***Тема \"Последовательность\"***"
   ]
  },
  {
   "cell_type": "markdown",
   "metadata": {},
   "source": [
    "1. Даны 4 последовательности. Необходимо:\n",
    "a. исследовать их на монотонность;\n",
    "b. исследовать на ограниченность;\n",
    "c. найти пятый по счету член.\n"
   ]
  },
  {
   "cell_type": "markdown",
   "metadata": {},
   "source": [
    "$$\\{a_n\\}_{n=1}^{\\infty} = 2^n - n$$\n",
    "$$(2^n-n)-(2^{n+1}-(n+1)) = 2^n - n - 2^{n+1} + n + 1 = 2^n - 2^{n+1} + 1 \\\\\n",
    "т.к. \\: n \\in \\mathbb{N} \\Rightarrow (2^n - 2^{n+1} + 1) < 0 \\Rightarrow последовательность \\: монотонно \\: возрастает.$$\n",
    "$$\\lim_{n\\to\\infty} (2^n - n) = \\infty$$\n",
    "Последовательность ограниченна снизу, т.к. для любых n $$2^n - n \\geq 1$$\n",
    "$$a_5 = 27$$"
   ]
  },
  {
   "cell_type": "markdown",
   "metadata": {},
   "source": [
    "$$\\{b_n\\}_{n=2}^{\\infty} = \\frac{1}{1-n}$$\n",
    "$$\\frac{1}{1-n}-\\frac{1}{1-(n+1)} = \\frac{1}{1-n}-\\frac{1}{-n} = \\frac{-n}{-n*(1-n)}-\\frac{1-n}{-n*(1-n)} = \\frac{1}{n*(1-n)} = \\frac{1}{n-n^2}\\\\\n",
    "т.к. \\: n \\in \\mathbb{N} > 1 \\Rightarrow (n-n^2) < 0 \\Rightarrow последовательность \\: монотонно \\: возрастает.$$\n",
    "$$\\lim_{n\\to\\infty} ( \\frac{1}{1-n}) = 0$$\n",
    "Последовательность ограниченна сверху и снизу, т.к. для любых n $$- 1 \\leq \\frac{1}{1-n} < 0 $$\n",
    "$$b_5 = - 0.2 $$"
   ]
  },
  {
   "cell_type": "markdown",
   "metadata": {},
   "source": [
    "$$\\{c_n\\}_{n=1}^{\\infty} = -1^n + \\sqrt{2n}$$\n",
    "$$-1^n + \\sqrt{2n}+1^{n+1} - \\sqrt{2(n+1)} = \\sqrt{2n} - \\sqrt{2(n+1)}\\\\\n",
    "т.к. \\: n \\in \\mathbb{N} \\Rightarrow (\\sqrt{n} - \\sqrt{(n+1)}) < 0  \\Rightarrow последовательность \\: монотонно \\: возрастает.$$\n",
    "$$\\lim_{n\\to\\infty} (-1^n + \\sqrt{2n}) = \\infty$$\n",
    "Последовательность ограниченна снизу, т.к. для любых n $$ -1^n + \\sqrt{2n} \\geq \\sqrt{2}-1$$\n",
    "$$c_5 = \\sqrt{10} - 1 \\approx 2.16$$"
   ]
  },
  {
   "cell_type": "markdown",
   "metadata": {},
   "source": [
    "$$\\{d_n\\}_{n=1}^{\\infty} = (-1)^{2n} + \\frac{1}{n^2}$$\n",
    "$$d_1 = 2\\\\\n",
    "d_2 = -0.25 \\\\\n",
    "d_3 = 0.(1) \\\\\n",
    "d_4 = - 0,0625 \\\\\n",
    "d_5 = 0.04 \\\\\n",
    "т.к. \\exists n < n+1 \\: и \\: \\exists n > n+1  \\Rightarrow последовательность \\: не \\: монотонная.$$\n",
    "$$\\lim_{n\\to\\infty} ((-1)^{2n} + \\frac{1}{n^2}) = 0$$\n",
    "Последовательность ограниченна сверху и снизу, т.к. для любых n $$ -0.25 \\leq (-1)^{2n} + \\frac{1}{n^2} \\leq 2$$\n",
    "$$d_5 = 0.04$$"
   ]
  },
  {
   "cell_type": "markdown",
   "metadata": {},
   "source": [
    "2. Найти 12-й член заданной неявно последовательности\n"
   ]
  },
  {
   "cell_type": "markdown",
   "metadata": {},
   "source": [
    "$$a_1 = 128, a_{n+1} - a_n = 6 \\\\\n",
    "a_{n+1} = 6 + a_n$$\n",
    "$$ a_2 = 6 + a_1$$\n",
    "$$ a_3 = 6 + (6 + a_1) = 6 + 6 + a_1  = 2*6 + a_1$$\n",
    "$$ a_4 = 6+ (6 + (6 + a_1)) = 3*6 + a_1$$\n",
    "$$ a_n = (n-1)*6 + a_1$$\n",
    "$$ a_{12} = 11*6 + a_1 = 66 + 128 = 194 $$"
   ]
  },
  {
   "cell_type": "markdown",
   "metadata": {},
   "source": [
    "3. *На языке Python предложить алгоритм вычисляющий численно предел с точностью $$\\epsilon = 10^{-7}$$\n",
    "$$\\lim_{n\\to\\infty} \\frac{n}{\\sqrt[n]{n!}}$$"
   ]
  },
  {
   "cell_type": "code",
   "execution_count": 115,
   "metadata": {},
   "outputs": [
    {
     "name": "stdout",
     "output_type": "stream",
     "text": [
      "элемент последовательности 11779, lim = 2.7169884, погрешность 9.999675842919942e-08\n"
     ]
    }
   ],
   "source": [
    "from mpmath import fac\n",
    "e = 10**(-7)\n",
    "n = 1\n",
    "def x(n):\n",
    "    return float(n/(fac(n)**(1/n)))\n",
    "\n",
    "while (x(n+1) - x(n)) > e:\n",
    "    n += 1\n",
    "\n",
    "print (f'элемент последовательности {n+1}, lim = {x(n+1):.08},  {x(n+1)-x(n)}')"
   ]
  },
  {
   "cell_type": "markdown",
   "metadata": {},
   "source": [
    "4. *Предложить оптимизацию алгоритма, полученного в задании 3, ускоряющую его сходимость.\n"
   ]
  },
  {
   "cell_type": "code",
   "execution_count": 121,
   "metadata": {},
   "outputs": [
    {
     "name": "stdout",
     "output_type": "stream",
     "text": [
      "12001\n",
      "11701\n",
      "11781\n",
      "элемент последовательности 11779, lim = 2.7169884, погрешность 9.999675842919942e-08\n"
     ]
    }
   ],
   "source": [
    "from mpmath import fac\n",
    "e = 10**(-7)\n",
    "n = 1\n",
    "def x(n):\n",
    "    return float(n/(fac(n)**(1/n)))\n",
    "\n",
    "while (x(n+1) - x(n)) > e:\n",
    "    n += 1000\n",
    "print(n)\n",
    "while (x(n) - x(n-1)) < e:\n",
    "    n -= 100\n",
    "print(n)\n",
    "while (x(n+1) - x(n)) > e:\n",
    "    n += 10\n",
    "print(n)\n",
    "while (x(n) - x(n-1)) < e:\n",
    "    n -= 1\n",
    "print (f'элемент последовательности {n+1}, lim = {x(n+1):.08}, {x(n+1)-x(n)}')"
   ]
  }
 ],
 "metadata": {
  "kernelspec": {
   "display_name": "Python 3",
   "language": "python",
   "name": "python3"
  },
  "language_info": {
   "codemirror_mode": {
    "name": "ipython",
    "version": 3
   },
   "file_extension": ".py",
   "mimetype": "text/x-python",
   "name": "python",
   "nbconvert_exporter": "python",
   "pygments_lexer": "ipython3",
   "version": "3.7.6"
  }
 },
 "nbformat": 4,
 "nbformat_minor": 4
}
